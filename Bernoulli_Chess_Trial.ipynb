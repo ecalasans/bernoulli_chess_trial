{
  "nbformat": 4,
  "nbformat_minor": 0,
  "metadata": {
    "colab": {
      "name": "Bernoulli Chess Trial",
      "provenance": [],
      "collapsed_sections": []
    },
    "kernelspec": {
      "name": "python3",
      "display_name": "Python 3"
    },
    "language_info": {
      "name": "python"
    }
  },
  "cells": [
    {
      "cell_type": "markdown",
      "source": [
        "# Bernoulli Chess Trial\n",
        "Um estudo de probabilidades em experimentos repetidos"
      ],
      "metadata": {
        "id": "VIJXLhqvMnr1"
      }
    },
    {
      "cell_type": "code",
      "source": [
        "import numpy as np\n",
        "import matplotlib.pyplot as plt\n",
        "import pandas as pd\n",
        "import seaborn as sns\n",
        "from scipy.special import comb\n",
        "%matplotlib inline"
      ],
      "metadata": {
        "id": "7pBOy9DPMyeW"
      },
      "execution_count": 1,
      "outputs": []
    },
    {
      "cell_type": "code",
      "source": [
        "# Constantes\n",
        "p = 3/8\n",
        "q = 1-p\n",
        "N = 10"
      ],
      "metadata": {
        "id": "5TkK9KVsM7Wp"
      },
      "execution_count": 2,
      "outputs": []
    },
    {
      "cell_type": "code",
      "source": [
        "# Dataframe para plotagem dos gráficos\n",
        "df_probs = pd.DataFrame()"
      ],
      "metadata": {
        "id": "q1tdZAbnNOWh"
      },
      "execution_count": 3,
      "outputs": []
    },
    {
      "cell_type": "markdown",
      "source": [
        "Cálculo de $P_{preta}(frente)$ e $P_{branca}(frente)$"
      ],
      "metadata": {
        "id": "OLerz8o_Oy7_"
      }
    },
    {
      "cell_type": "code",
      "source": [
        "pfp = 0\n",
        "pbp = 0\n",
        "\n",
        "for k in range(1, N+1):\n",
        "    if (k == 1):\n",
        "        pfp = (comb(k,k) * (p**(k)))\n",
        "        pbp = 1\n",
        "        df_probs.loc[k, 'lances'] = k\n",
        "        df_probs.loc[k, 'prob_preta'] = pfp\n",
        "        df_probs.loc[k, 'prob_branca'] = pbp\n",
        "    elif (k == 2):\n",
        "        pbp = (comb(k-1,k-1) * (p**(k-1))) \n",
        "        pfp = (comb(k,k) * (p**k)) + (comb(k-1, k-1) * (p**(k-1)))\n",
        "        df_probs.loc[k, 'lances'] = k\n",
        "        df_probs.loc[k, 'prob_preta'] = pfp\n",
        "        df_probs.loc[k, 'prob_branca'] = pbp\n",
        "    else:\n",
        "        pbp = (comb(k-1,k-1) * (p**(k-1))) + (comb(k-2, k-2) * (p**(k-2)))\n",
        "        pfp = (comb(k,k) * (p**k)) + (comb(k-1, k-1) * (p**(k-1)))\n",
        "        df_probs.loc[k, 'lances'] = k\n",
        "        df_probs.loc[k, 'prob_preta'] = pfp\n",
        "        df_probs.loc[k, 'prob_branca'] = pbp\n"
      ],
      "metadata": {
        "id": "uN6xqZDrO4Va"
      },
      "execution_count": 4,
      "outputs": []
    },
    {
      "cell_type": "code",
      "source": [
        "df_probs['total'] = df_probs.prob_preta + df_probs.prob_branca"
      ],
      "metadata": {
        "id": "u0PQZ6DvAUvQ"
      },
      "execution_count": 5,
      "outputs": []
    },
    {
      "cell_type": "code",
      "source": [
        "df_probs"
      ],
      "metadata": {
        "id": "V-7rGVCDGLFt",
        "outputId": "13f14736-1bca-4b67-9ee5-8af682f5c9cf",
        "colab": {
          "base_uri": "https://localhost:8080/",
          "height": 363
        }
      },
      "execution_count": 6,
      "outputs": [
        {
          "output_type": "execute_result",
          "data": {
            "text/plain": [
              "    lances  prob_preta  prob_branca     total\n",
              "1      1.0    0.375000     1.000000  1.375000\n",
              "2      2.0    0.515625     0.375000  0.890625\n",
              "3      3.0    0.193359     0.515625  0.708984\n",
              "4      4.0    0.072510     0.193359  0.265869\n",
              "5      5.0    0.027191     0.072510  0.099701\n",
              "6      6.0    0.010197     0.027191  0.037388\n",
              "7      7.0    0.003824     0.010197  0.014020\n",
              "8      8.0    0.001434     0.003824  0.005258\n",
              "9      9.0    0.000538     0.001434  0.001972\n",
              "10    10.0    0.000202     0.000538  0.000739"
            ],
            "text/html": [
              "\n",
              "  <div id=\"df-01d02ad2-53f3-403e-b445-53700c52f0f7\">\n",
              "    <div class=\"colab-df-container\">\n",
              "      <div>\n",
              "<style scoped>\n",
              "    .dataframe tbody tr th:only-of-type {\n",
              "        vertical-align: middle;\n",
              "    }\n",
              "\n",
              "    .dataframe tbody tr th {\n",
              "        vertical-align: top;\n",
              "    }\n",
              "\n",
              "    .dataframe thead th {\n",
              "        text-align: right;\n",
              "    }\n",
              "</style>\n",
              "<table border=\"1\" class=\"dataframe\">\n",
              "  <thead>\n",
              "    <tr style=\"text-align: right;\">\n",
              "      <th></th>\n",
              "      <th>lances</th>\n",
              "      <th>prob_preta</th>\n",
              "      <th>prob_branca</th>\n",
              "      <th>total</th>\n",
              "    </tr>\n",
              "  </thead>\n",
              "  <tbody>\n",
              "    <tr>\n",
              "      <th>1</th>\n",
              "      <td>1.0</td>\n",
              "      <td>0.375000</td>\n",
              "      <td>1.000000</td>\n",
              "      <td>1.375000</td>\n",
              "    </tr>\n",
              "    <tr>\n",
              "      <th>2</th>\n",
              "      <td>2.0</td>\n",
              "      <td>0.515625</td>\n",
              "      <td>0.375000</td>\n",
              "      <td>0.890625</td>\n",
              "    </tr>\n",
              "    <tr>\n",
              "      <th>3</th>\n",
              "      <td>3.0</td>\n",
              "      <td>0.193359</td>\n",
              "      <td>0.515625</td>\n",
              "      <td>0.708984</td>\n",
              "    </tr>\n",
              "    <tr>\n",
              "      <th>4</th>\n",
              "      <td>4.0</td>\n",
              "      <td>0.072510</td>\n",
              "      <td>0.193359</td>\n",
              "      <td>0.265869</td>\n",
              "    </tr>\n",
              "    <tr>\n",
              "      <th>5</th>\n",
              "      <td>5.0</td>\n",
              "      <td>0.027191</td>\n",
              "      <td>0.072510</td>\n",
              "      <td>0.099701</td>\n",
              "    </tr>\n",
              "    <tr>\n",
              "      <th>6</th>\n",
              "      <td>6.0</td>\n",
              "      <td>0.010197</td>\n",
              "      <td>0.027191</td>\n",
              "      <td>0.037388</td>\n",
              "    </tr>\n",
              "    <tr>\n",
              "      <th>7</th>\n",
              "      <td>7.0</td>\n",
              "      <td>0.003824</td>\n",
              "      <td>0.010197</td>\n",
              "      <td>0.014020</td>\n",
              "    </tr>\n",
              "    <tr>\n",
              "      <th>8</th>\n",
              "      <td>8.0</td>\n",
              "      <td>0.001434</td>\n",
              "      <td>0.003824</td>\n",
              "      <td>0.005258</td>\n",
              "    </tr>\n",
              "    <tr>\n",
              "      <th>9</th>\n",
              "      <td>9.0</td>\n",
              "      <td>0.000538</td>\n",
              "      <td>0.001434</td>\n",
              "      <td>0.001972</td>\n",
              "    </tr>\n",
              "    <tr>\n",
              "      <th>10</th>\n",
              "      <td>10.0</td>\n",
              "      <td>0.000202</td>\n",
              "      <td>0.000538</td>\n",
              "      <td>0.000739</td>\n",
              "    </tr>\n",
              "  </tbody>\n",
              "</table>\n",
              "</div>\n",
              "      <button class=\"colab-df-convert\" onclick=\"convertToInteractive('df-01d02ad2-53f3-403e-b445-53700c52f0f7')\"\n",
              "              title=\"Convert this dataframe to an interactive table.\"\n",
              "              style=\"display:none;\">\n",
              "        \n",
              "  <svg xmlns=\"http://www.w3.org/2000/svg\" height=\"24px\"viewBox=\"0 0 24 24\"\n",
              "       width=\"24px\">\n",
              "    <path d=\"M0 0h24v24H0V0z\" fill=\"none\"/>\n",
              "    <path d=\"M18.56 5.44l.94 2.06.94-2.06 2.06-.94-2.06-.94-.94-2.06-.94 2.06-2.06.94zm-11 1L8.5 8.5l.94-2.06 2.06-.94-2.06-.94L8.5 2.5l-.94 2.06-2.06.94zm10 10l.94 2.06.94-2.06 2.06-.94-2.06-.94-.94-2.06-.94 2.06-2.06.94z\"/><path d=\"M17.41 7.96l-1.37-1.37c-.4-.4-.92-.59-1.43-.59-.52 0-1.04.2-1.43.59L10.3 9.45l-7.72 7.72c-.78.78-.78 2.05 0 2.83L4 21.41c.39.39.9.59 1.41.59.51 0 1.02-.2 1.41-.59l7.78-7.78 2.81-2.81c.8-.78.8-2.07 0-2.86zM5.41 20L4 18.59l7.72-7.72 1.47 1.35L5.41 20z\"/>\n",
              "  </svg>\n",
              "      </button>\n",
              "      \n",
              "  <style>\n",
              "    .colab-df-container {\n",
              "      display:flex;\n",
              "      flex-wrap:wrap;\n",
              "      gap: 12px;\n",
              "    }\n",
              "\n",
              "    .colab-df-convert {\n",
              "      background-color: #E8F0FE;\n",
              "      border: none;\n",
              "      border-radius: 50%;\n",
              "      cursor: pointer;\n",
              "      display: none;\n",
              "      fill: #1967D2;\n",
              "      height: 32px;\n",
              "      padding: 0 0 0 0;\n",
              "      width: 32px;\n",
              "    }\n",
              "\n",
              "    .colab-df-convert:hover {\n",
              "      background-color: #E2EBFA;\n",
              "      box-shadow: 0px 1px 2px rgba(60, 64, 67, 0.3), 0px 1px 3px 1px rgba(60, 64, 67, 0.15);\n",
              "      fill: #174EA6;\n",
              "    }\n",
              "\n",
              "    [theme=dark] .colab-df-convert {\n",
              "      background-color: #3B4455;\n",
              "      fill: #D2E3FC;\n",
              "    }\n",
              "\n",
              "    [theme=dark] .colab-df-convert:hover {\n",
              "      background-color: #434B5C;\n",
              "      box-shadow: 0px 1px 3px 1px rgba(0, 0, 0, 0.15);\n",
              "      filter: drop-shadow(0px 1px 2px rgba(0, 0, 0, 0.3));\n",
              "      fill: #FFFFFF;\n",
              "    }\n",
              "  </style>\n",
              "\n",
              "      <script>\n",
              "        const buttonEl =\n",
              "          document.querySelector('#df-01d02ad2-53f3-403e-b445-53700c52f0f7 button.colab-df-convert');\n",
              "        buttonEl.style.display =\n",
              "          google.colab.kernel.accessAllowed ? 'block' : 'none';\n",
              "\n",
              "        async function convertToInteractive(key) {\n",
              "          const element = document.querySelector('#df-01d02ad2-53f3-403e-b445-53700c52f0f7');\n",
              "          const dataTable =\n",
              "            await google.colab.kernel.invokeFunction('convertToInteractive',\n",
              "                                                     [key], {});\n",
              "          if (!dataTable) return;\n",
              "\n",
              "          const docLinkHtml = 'Like what you see? Visit the ' +\n",
              "            '<a target=\"_blank\" href=https://colab.research.google.com/notebooks/data_table.ipynb>data table notebook</a>'\n",
              "            + ' to learn more about interactive tables.';\n",
              "          element.innerHTML = '';\n",
              "          dataTable['output_type'] = 'display_data';\n",
              "          await google.colab.output.renderOutput(dataTable, element);\n",
              "          const docLink = document.createElement('div');\n",
              "          docLink.innerHTML = docLinkHtml;\n",
              "          element.appendChild(docLink);\n",
              "        }\n",
              "      </script>\n",
              "    </div>\n",
              "  </div>\n",
              "  "
            ]
          },
          "metadata": {},
          "execution_count": 6
        }
      ]
    },
    {
      "cell_type": "markdown",
      "source": [
        "Gráfico"
      ],
      "metadata": {
        "id": "_rXl8u7pA6zs"
      }
    },
    {
      "cell_type": "code",
      "source": [
        "g_preta = sns.scatterplot(\n",
        "    x = 'lances',\n",
        "    y = 'prob_preta',\n",
        "    data = df_probs\n",
        ")\n",
        "\n",
        "plt.ylim(0,0.7)\n",
        "plt.xlabel(\"Lances\")\n",
        "plt.ylabel('$P_{preta}(frente)$')\n",
        "plt.yticks(np.arange(-0.05,0.7,0.05))\n",
        "plt.xticks(np.arange(0,11,1))\n",
        "plt.show(g_preta)"
      ],
      "metadata": {
        "colab": {
          "base_uri": "https://localhost:8080/",
          "height": 279
        },
        "id": "on5UshR1A94M",
        "outputId": "b9460b92-a4e7-4ee4-cdd7-051231d42391"
      },
      "execution_count": 22,
      "outputs": [
        {
          "output_type": "display_data",
          "data": {
            "text/plain": [
              "<Figure size 432x288 with 1 Axes>"
            ],
            "image/png": "[encoded data removed]"
          },
          "metadata": {
            "needs_background": "light"
          }
        }
      ]
    },
    {
      "cell_type": "code",
      "source": [
        "g_branca = sns.scatterplot(\n",
        "    x = 'lances',\n",
        "    y = 'prob_branca',\n",
        "    data = df_probs\n",
        ")\n",
        "\n",
        "plt.ylim(0,1.1)\n",
        "plt.xlabel(\"Lances\")\n",
        "plt.ylabel('$P_{branca}(frente)$')\n",
        "plt.yticks(np.arange(-0.05,1.1,0.1))\n",
        "plt.xticks(np.arange(0,11,1))\n",
        "plt.show(g_branca)"
      ],
      "metadata": {
        "colab": {
          "base_uri": "https://localhost:8080/",
          "height": 279
        },
        "id": "FIcci-GR01u0",
        "outputId": "6102a40e-f839-41a5-b663-2397f46995ff"
      },
      "execution_count": 23,
      "outputs": [
        {
          "output_type": "display_data",
          "data": {
            "text/plain": [
              "<Figure size 432x288 with 1 Axes>"
            ],
            "image/png": "[encoded data removed]"
          },
          "metadata": {
            "needs_background": "light"
          }
        }
      ]
    },
    {
      "cell_type": "code",
      "source": [
        "g_total = sns.scatterplot(\n",
        "    x = 'lances',\n",
        "    y = 'total',\n",
        "    data = df_probs\n",
        ")\n",
        "\n",
        "plt.ylim(0,1.1)\n",
        "plt.xlabel(\"Lances\")\n",
        "plt.ylabel('$P(frente)$')\n",
        "plt.yticks(np.arange(-0.05,1.1,0.1))\n",
        "plt.xticks(np.arange(0,11,1))\n",
        "plt.show(g_total)"
      ],
      "metadata": {
        "colab": {
          "base_uri": "https://localhost:8080/",
          "height": 279
        },
        "id": "aFv3P1_jBhbw",
        "outputId": "26c452fa-c723-4252-eefc-a4b42dc71384"
      },
      "execution_count": 24,
      "outputs": [
        {
          "output_type": "display_data",
          "data": {
            "text/plain": [
              "<Figure size 432x288 with 1 Axes>"
            ],
            "image/png": "[encoded data removed]"
          },
          "metadata": {
            "needs_background": "light"
          }
        }
      ]
    }
  ]
}